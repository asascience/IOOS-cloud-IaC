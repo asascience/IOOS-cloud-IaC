{
 "cells": [
  {
   "cell_type": "code",
   "execution_count": 1,
   "metadata": {},
   "outputs": [],
   "source": [
    "import glob\n",
    "import os\n",
    "import sys\n",
    "\n",
    "import matplotlib.pyplot as plt\n",
    "import netCDF4\n",
    "import pyproj\n",
    "import xarray as xr\n",
    "\n",
    "from plotting import plot, tile"
   ]
  },
  {
   "cell_type": "code",
   "execution_count": 2,
   "metadata": {},
   "outputs": [],
   "source": [
    "path_aws = os.path.join(os.getenv('DATA'), 'cbofs', 'AWS.cbofs.20191021')\n",
    "path_noaa = os.path.join(os.getenv('DATA'), 'cbofs', 'NOAA.cbofs.20191021')\n",
    "\n",
    "files_aws = sorted(glob.glob(f'{path_aws}/*.nc'))\n",
    "files_noaa = sorted(glob.glob(f'{path_noaa}/*.nc'))"
   ]
  },
  {
   "cell_type": "code",
   "execution_count": 3,
   "metadata": {},
   "outputs": [],
   "source": [
    "f1 = files_aws[-1]\n",
    "f2 = files_noaa[-1]\n",
    "var = 'temp'"
   ]
  },
  {
   "cell_type": "code",
   "execution_count": 4,
   "metadata": {},
   "outputs": [],
   "source": [
    "def roms_diff(f1, f2, variable):\n",
    "\n",
    "    d = dict()\n",
    "    for i, f in enumerate(list(f1, f2)):\n",
    "        ds = xr.open_dataset(f1, decode_times=False)\n",
    "        d[i] = ds[variable]\n",
    "    \n",
    "    return d"
   ]
  },
  {
   "cell_type": "code",
   "execution_count": 44,
   "metadata": {},
   "outputs": [],
   "source": [
    "d = dict()\n",
    "for f in (f1, f2):\n",
    "    ds = xr.open_dataset(f, decode_times=False)\n",
    "    d[f] = {\n",
    "        'lon': ds['lon_rho'].values,\n",
    "        'lat': ds['lat_rho'].values,\n",
    "        var: ds[var].isel(s_rho=0).values\n",
    "    }"
   ]
  },
  {
   "cell_type": "code",
   "execution_count": 45,
   "metadata": {},
   "outputs": [
    {
     "data": {
      "text/plain": [
       "dict_keys(['lon', 'lat', 'temp'])"
      ]
     },
     "execution_count": 45,
     "metadata": {},
     "output_type": "execute_result"
    }
   ],
   "source": [
    "d['/Users/kenny.ells/data/cbofs/AWS.cbofs.20191021/nos.cbofs.fields.f048.20191021.t00z.nc'].keys()"
   ]
  },
  {
   "cell_type": "code",
   "execution_count": null,
   "metadata": {},
   "outputs": [],
   "source": []
  },
  {
   "cell_type": "code",
   "execution_count": null,
   "metadata": {},
   "outputs": [],
   "source": [
    "diff.isel(ocean_time=0, s_rho=0).plot()"
   ]
  },
  {
   "cell_type": "code",
   "execution_count": null,
   "metadata": {},
   "outputs": [],
   "source": []
  }
 ],
 "metadata": {
  "kernelspec": {
   "display_name": "Python 3",
   "language": "python",
   "name": "python3"
  },
  "language_info": {
   "codemirror_mode": {
    "name": "ipython",
    "version": 3
   },
   "file_extension": ".py",
   "mimetype": "text/x-python",
   "name": "python",
   "nbconvert_exporter": "python",
   "pygments_lexer": "ipython3",
   "version": "3.7.4"
  }
 },
 "nbformat": 4,
 "nbformat_minor": 4
}
