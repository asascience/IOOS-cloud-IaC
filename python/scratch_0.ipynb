{
 "cells": [
  {
   "cell_type": "code",
   "execution_count": 1,
   "metadata": {},
   "outputs": [],
   "source": [
    "import os\n",
    "import sys\n",
    "import glob\n",
    "\n",
    "import pyproj\n",
    "import cmocean\n",
    "import netCDF4\n",
    "import PIL.Image\n",
    "import numpy as np\n",
    "import matplotlib.pyplot as plt\n",
    "import xarray as xr\n",
    "\n",
    "from plotting import tile\n",
    "\n",
    "EPSG3857 = pyproj.Proj('EPSG:3857')\n",
    "TILE3857 = tile.Tile3857()"
   ]
  },
  {
   "cell_type": "code",
   "execution_count": 2,
   "metadata": {},
   "outputs": [],
   "source": [
    "data = os.path.join(os.getenv('DATA'), 'LiveOcean_output/f2019.11.06')\n",
    "files = sorted(glob.glob(f'{data}/*.nc'))\n",
    "target = 'tmp'\n",
    "if not os.path.exists(target):\n",
    "    os.mkdir(target)\n",
    "variables = iter(['temp', 'zeta', 'u', 'v'])"
   ]
  },
  {
   "cell_type": "code",
   "execution_count": 3,
   "metadata": {},
   "outputs": [],
   "source": [
    "nc = netCDF4.MFDataset(f'{data}/*.nc')\n",
    "varname = next(variables)\n",
    "zoom = 10"
   ]
  },
  {
   "cell_type": "code",
   "execution_count": 8,
   "metadata": {},
   "outputs": [],
   "source": [
    "# Extract spatial variables\n",
    "lon = nc.variables['lon_rho'][:]\n",
    "lat = nc.variables['lat_rho'][:]\n",
    "msk = nc.variables['mask_rho'][:]\n",
    "lo,la = EPSG3857(lon,lat) # project EPSG:4326 to EPSG:3857 (web mercator)\n",
    "\n",
    "# temporal\n",
    "time = nc.variables['ocean_time']\n",
    "time = netCDF4.num2date(time[:], units=time.units)\n",
    "\n",
    "# data\n",
    "d = nc.variables[varname]\n",
    "d = d[:]\n",
    "\n",
    "# image size based on tiles\n",
    "mla = la[msk == 0]\n",
    "mlo = lo[msk == 0]\n",
    "lrt = TILE3857.tile(mlo.max(), mla.min(), zoom)\n",
    "lrb = TILE3857.bounds(*lrt)\n",
    "ult = TILE3857.tile(mlo.min(), mla.max(), zoom)\n",
    "ulb = TILE3857.bounds(*ult)\n",
    "ntx = lrt[0] - ult[0] + 1 # number of tiles in x\n",
    "nty = lrt[1] - ult[1] + 1 # number of tiles in y"
   ]
  },
  {
   "cell_type": "code",
   "execution_count": 6,
   "metadata": {},
   "outputs": [
    {
     "data": {
      "text/plain": [
       "(663,)"
      ]
     },
     "execution_count": 6,
     "metadata": {},
     "output_type": "execute_result"
    }
   ],
   "source": [
    "# loop times in file\n",
    "for t in range(len(time)):\n",
    "\n",
    "    d = d[t, :] # select time\n",
    "\n",
    "    # check for vertical coordinate\n",
    "    if d.ndim > 2:\n",
    "        d = d[-1,:] # surface is last in ROMS\n",
    "\n",
    "    # apply mask\n",
    "    d = np.ma.masked_where(msk == 0, d)\n",
    "\n",
    "    # pcolor uses surrounding points, if any are masked, mask this cell\n",
    "    #   see https://matplotlib.org/api/_as_gen/matplotlib.pyplot.pcolor.html\n",
    "    d[:-1,:] = np.ma.masked_where(msk[1:,:] == 0, d[:-1,:])\n",
    "    d[:,:-1] = np.ma.masked_where(msk[:,1:] == 0, d[:,:-1])\n",
    "\n",
    "    # image size/resolution\n",
    "    #dpi = 256\n",
    "    dpi = 96   # suitable for screen and web\n",
    "    height = nty * dpi\n",
    "    width  = ntx * dpi\n",
    "\n",
    "    fig = plt.figure(dpi=dpi, facecolor='none', edgecolor='none')\n",
    "    fig.set_alpha(0)\n",
    "    fig.set_figheight(height/dpi)\n",
    "    fig.set_figwidth(width/dpi)\n",
    "\n",
    "    ax = fig.add_axes([0., 0., 1., 1.], xticks=[], yticks=[])\n",
    "    ax.set_axis_off()\n",
    "\n",
    "    # pcolor\n",
    "    pcolor = ax.pcolor(lo, la, d, cmap=plt.get_cmap('viridis'), edgecolors='none', linewidth=0.05)\n",
    "\n",
    "    ax.set_frame_on(False)\n",
    "    ax.set_clip_on(False)\n",
    "    ax.set_position([0, 0, 1, 1])\n",
    "\n",
    "    # set limits based on tiles\n",
    "    ax.set_xlim(ulb[0], lrb[2])\n",
    "    ax.set_ylim(lrb[1], ulb[3])\n",
    "\n",
    "    # File output\n",
    "    #prefix = ncfile.split('/')[-1][:-3]\n",
    "    prefix = 'liveocean'\n",
    "    filename = f'{target}/{prefix}_{varname}.png'\n",
    "    fig.savefig(filename, dpi=dpi, bbox_inches='tight', pad_inches=0.0, transparent=True)\n",
    "\n",
    "    plt.close(fig)"
   ]
  },
  {
   "cell_type": "code",
   "execution_count": null,
   "metadata": {},
   "outputs": [],
   "source": []
  }
 ],
 "metadata": {
  "kernelspec": {
   "display_name": "Python 3",
   "language": "python",
   "name": "python3"
  },
  "language_info": {
   "codemirror_mode": {
    "name": "ipython",
    "version": 3
   },
   "file_extension": ".py",
   "mimetype": "text/x-python",
   "name": "python",
   "nbconvert_exporter": "python",
   "pygments_lexer": "ipython3",
   "version": "3.7.4"
  }
 },
 "nbformat": 4,
 "nbformat_minor": 4
}
